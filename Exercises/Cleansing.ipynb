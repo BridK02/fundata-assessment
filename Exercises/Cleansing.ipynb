{
 "cells": [
  {
   "cell_type": "markdown",
   "id": "a6a8dab9",
   "metadata": {},
   "source": [
    "# Cleansing-assignments"
   ]
  },
  {
   "cell_type": "markdown",
   "id": "e3df1bbf",
   "metadata": {},
   "source": [
    "## Exercise 1\n",
    "\n",
    "\n",
    "### Write a Python function to remove all non-alphanumeric characters from a string."
   ]
  },
  {
   "cell_type": "code",
   "execution_count": 3,
   "id": "937b4ae7",
   "metadata": {},
   "outputs": [],
   "source": [
    "import re"
   ]
  },
  {
   "cell_type": "code",
   "execution_count": 7,
   "id": "ed5f8db1",
   "metadata": {},
   "outputs": [
    {
     "data": {
      "text/plain": [
       "'ItwasthebestoftimesitwastheworstoftimesitwastheageofwisdomitwastheageoffoolishnessitwastheepochofbeliefitwastheepochofincredulityitwastheseasonofLightitwastheseasonofDarknessitwasthespringofhopeitwasthewinterofdespairwehadeverythingbeforeuswehadnothingbeforeuswewereallgoingdirecttoHeavenwewereallgoingdirecttheotherwayinshorttheperiodwassofarlikethepresentperiodthatsomeofitsnoisiestauthoritiesinsistedonitsbeingreceivedforgoodorforevilinthesuperlativedegreeofcomparisononly'"
      ]
     },
     "execution_count": 7,
     "metadata": {},
     "output_type": "execute_result"
    }
   ],
   "source": [
    "# A string to be manipulated.opening paragraph a tale of two cities\n",
    "string = \"It was the best of times, it was the worst of times, it was the age of wisdom, it was the age of foolishness,it was the epoch of belief, it was the epoch of incredulity, it was the season of Light, it was the season of Darkness,  it was the spring of hope, it was the winter of despair, we had everything before us, we had nothing before us, we were all going direct to Heaven, we were all going direct the other way — in short, the period was so far like the  present period, that some of its noisiest authorities insisted on its being received, for good or for evil,  in the superlative degree of comparison only.\"\n",
    "#from https://stackoverflow.com/questions/1276764/stripping-everything-but-alphanumeric-chars-from-a-string-in-python\n",
    "re.sub(r'\\W+', '', string)"
   ]
  },
  {
   "cell_type": "code",
   "execution_count": 8,
   "id": "f00bcbcf",
   "metadata": {},
   "outputs": [
    {
     "data": {
      "text/plain": [
       "'It was the best of times it was the worst of times it was the age of wisdom it was the age of foolishness it was the epoch of belief it was the epoch of incredulity it was the season of Light it was the season of Darkness it was the spring of hope it was the winter of despair we had everything before us we had nothing before us we were all going direct to Heaven we were all going direct the other way in short the period was so far like the present period that some of its noisiest authorities insisted on its being received for good or for evil in the superlative degree of comparison only '"
      ]
     },
     "execution_count": 8,
     "metadata": {},
     "output_type": "execute_result"
    }
   ],
   "source": [
    "#do it without removing the white space: \n",
    "re.sub('[\\W_]+', ' ', string, flags=re.UNICODE) "
   ]
  },
  {
   "cell_type": "code",
   "execution_count": null,
   "id": "3c4d4e53",
   "metadata": {},
   "outputs": [],
   "source": []
  }
 ],
 "metadata": {
  "kernelspec": {
   "display_name": "Python 3 (ipykernel)",
   "language": "python",
   "name": "python3"
  },
  "language_info": {
   "codemirror_mode": {
    "name": "ipython",
    "version": 3
   },
   "file_extension": ".py",
   "mimetype": "text/x-python",
   "name": "python",
   "nbconvert_exporter": "python",
   "pygments_lexer": "ipython3",
   "version": "3.9.13"
  }
 },
 "nbformat": 4,
 "nbformat_minor": 5
}
