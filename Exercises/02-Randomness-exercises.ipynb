{
 "cells": [
  {
   "cell_type": "code",
   "execution_count": null,
   "id": "23818696",
   "metadata": {},
   "outputs": [],
   "source": []
  },
  {
   "cell_type": "markdown",
   "id": "f65135b2",
   "metadata": {},
   "source": [
    "## Exercise\n",
    "\n",
    "### Part one\n",
    "\n",
    "**It is somewhat interesting that (5 * 4 * 3 * 2 * 1) perfectly divides (10 * 9 * 8 * 7 * 6) - there's no remainder.**\n",
    "\n",
    "**If we only wanted exactly four heads as opposed to five, the equivalent calculation would be (10 * 9 * 8 * 7) / (4 * 3 * 2 * 1).**"
   ]
  },
  {
   "cell_type": "markdown",
   "id": "12861778",
   "metadata": {},
   "source": [
    "**Does that evenly divide too? What is the formula in general?**\n",
    "\n",
    "**Does it always come out as a positive whole number?**"
   ]
  },
  {
   "cell_type": "code",
   "execution_count": 1,
   "id": "b6035a39",
   "metadata": {},
   "outputs": [
    {
     "data": {
      "text/plain": [
       "252"
      ]
     },
     "execution_count": 1,
     "metadata": {},
     "output_type": "execute_result"
    }
   ],
   "source": [
    "(10 * 9 * 8 * 7 * 6) // (5 * 4 * 3 * 2 * 1)"
   ]
  },
  {
   "cell_type": "code",
   "execution_count": 2,
   "id": "aa454874",
   "metadata": {},
   "outputs": [
    {
     "data": {
      "text/plain": [
       "42"
      ]
     },
     "execution_count": 2,
     "metadata": {},
     "output_type": "execute_result"
    }
   ],
   "source": [
    "#testing if the below calculation generates an equal number\n",
    "(10 * 9 * 8 * 7 ) // (5 * 4 * 3 * 2 )"
   ]
  },
  {
   "cell_type": "markdown",
   "id": "bf030c8d",
   "metadata": {},
   "source": [
    "Looking for an answer for what the formulas in general for this type of calculation has lead me to the [wikipedia on combinations](https://en.wikipedia.org/wiki/Combination) page.\n",
    "\n",
    "a *k*-**combination** of a set S is a subset of *k* distinct elements of S.\n",
    "{\\displaystyle {\\binom {n}{k}}={\\frac {n(n-1)\\dotsb (n-k+1)}{k(k-1)\\dotsb 1}},}\n",
    "\n",
    " using factorials as {\\displaystyle \\textstyle {\\frac {n!}{k!(n-k)!}}}\\textstyle {\\frac {n!}{k!(n-k)!}} whenever {\\displaystyle k\\leq n}k\\leq n, and which is zero when {\\displaystyle k>n}k>n. This formula can be derived from the fact that each k-"
   ]
  },
  {
   "cell_type": "markdown",
   "id": "45dd8155",
   "metadata": {},
   "source": [
    "## Part two\n",
    "**Note that there are the same number of ways to get 4 tails as there to get 4 heads. Explain why this is.**"
   ]
  },
  {
   "cell_type": "code",
   "execution_count": 1,
   "id": "4abfa217",
   "metadata": {},
   "outputs": [
    {
     "data": {
      "text/plain": [
       "210"
      ]
     },
     "execution_count": 1,
     "metadata": {},
     "output_type": "execute_result"
    }
   ],
   "source": [
    "import math\n",
    "#for 4 heads\n",
    "math.comb(10, 4)"
   ]
  },
  {
   "cell_type": "code",
   "execution_count": 2,
   "id": "9042fa14",
   "metadata": {},
   "outputs": [
    {
     "data": {
      "text/plain": [
       "210"
      ]
     },
     "execution_count": 2,
     "metadata": {},
     "output_type": "execute_result"
    }
   ],
   "source": [
    "math.comb(10, 6)"
   ]
  },
  {
   "cell_type": "code",
   "execution_count": 3,
   "id": "137fc054",
   "metadata": {},
   "outputs": [
    {
     "data": {
      "image/png": "[encoded data removed]",
      "text/plain": [
       "<Figure size 640x480 with 1 Axes>"
      ]
     },
     "metadata": {},
     "output_type": "display_data"
    }
   ],
   "source": [
    "#to show this in a bar chart 4 heads is the same as 6 tails and vice versa\n",
    "import matplotlib.pyplot as plt\n",
    "\n",
    "coins = 10\n",
    "\n",
    "x = list(range(coins + 1))\n",
    "\n",
    "y = [math.comb(coins, i) for i in x]\n",
    "\n",
    "plt.bar(x, y);"
   ]
  },
  {
   "cell_type": "markdown",
   "id": "a2efbfaf",
   "metadata": {},
   "source": [
    "# Part 3\n",
    "\n",
    "**Plot bar charts or histograms of any three different distributions listed at the following link:**\n",
    "\n",
    "https://numpy.org/doc/stable/reference/random/generator.html#distributions\n",
    "\n"
   ]
  },
  {
   "cell_type": "markdown",
   "id": "eae981a8",
   "metadata": {},
   "source": [
    "# NO.1 \n",
    "### lognormal([mean, sigma, size])    Draw samples from a log-normal distribution with specified mean, standard deviation, and array shape."
   ]
  },
  {
   "cell_type": "code",
   "execution_count": 2,
   "id": "99311d3f",
   "metadata": {},
   "outputs": [],
   "source": [
    "# For generating numbers.\n",
    "import numpy as np"
   ]
  },
  {
   "cell_type": "code",
   "execution_count": 22,
   "id": "525c5ca0",
   "metadata": {},
   "outputs": [],
   "source": [
    "rng = np.random.default_rng()\n",
    "mu, sigma = 5., 1. # mean and standard deviation\n",
    "s = rng.lognormal(mu, sigma, 1000)"
   ]
  },
  {
   "cell_type": "code",
   "execution_count": 23,
   "id": "1f7e041a",
   "metadata": {},
   "outputs": [
    {
     "data": {
      "image/png": "[encoded data removed]",
      "text/plain": [
       "<Figure size 640x480 with 1 Axes>"
      ]
     },
     "metadata": {},
     "output_type": "display_data"
    }
   ],
   "source": [
    "import matplotlib.pyplot as plt\n",
    "count, bins, ignored = plt.hist(s, 80, density=True, align='mid')\n",
    "x = np.linspace(min(bins), max(bins), 10000)\n",
    "pdf = (np.exp(-(np.log(x) - mu)**2 / (2 * sigma**2))\n",
    "       / (x * sigma * np.sqrt(2 * np.pi)))\n",
    "plt.plot(x, pdf, linewidth=2, color='g')\n",
    "plt.axis('tight')\n",
    "plt.show()"
   ]
  },
  {
   "cell_type": "markdown",
   "id": "ebb8165c",
   "metadata": {},
   "source": [
    "# No.2\n",
    "\n",
    "### laplace([loc, scale, size]) Draw samples from the Laplace or double exponential distribution with specified location (or mean) and scale (decay)."
   ]
  },
  {
   "cell_type": "markdown",
   "id": "066152e5",
   "metadata": {},
   "source": [
    "The Laplace distribution is similar to the Gaussian/normal distribution, but is sharper at the peak and has fatter tails. It represents the difference between two independent, identically distributed exponential random variables"
   ]
  },
  {
   "cell_type": "code",
   "execution_count": 24,
   "id": "e0dd0bd9",
   "metadata": {},
   "outputs": [],
   "source": [
    "#Draw samples from the distribution\n",
    "loc, scale = 0., 1.\n",
    "s = np.random.default_rng().laplace(loc, scale, 1000)"
   ]
  },
  {
   "cell_type": "code",
   "execution_count": 27,
   "id": "b84d3dab",
   "metadata": {},
   "outputs": [
    {
     "data": {
      "text/plain": [
       "[<matplotlib.lines.Line2D at 0x1f32f6c79a0>]"
      ]
     },
     "execution_count": 27,
     "metadata": {},
     "output_type": "execute_result"
    },
    {
     "data": {
      "image/png": "[encoded data removed]",
      "text/plain": [
       "<Figure size 640x480 with 1 Axes>"
      ]
     },
     "metadata": {},
     "output_type": "display_data"
    }
   ],
   "source": [
    "# Display the histogram of the samples, along with the probability density function:import matplotlib.pyplot as plt\n",
    "count, bins, ignored = plt.hist(s, 30, density=True)\n",
    "x = np.arange(-10., 10., .3)\n",
    "pdf = np.exp(-abs(x-loc)/scale)/(2.*scale)\n",
    "plt.plot(x, pdf)\n"
   ]
  },
  {
   "cell_type": "markdown",
   "id": "51ac2ae8",
   "metadata": {},
   "source": [
    "# No.3\n",
    "\n",
    "### Standard_t(df[, size]) Draw samples from a standard Student's t distribution with df degrees of freedom."
   ]
  },
  {
   "cell_type": "markdown",
   "id": "b25ed048",
   "metadata": {},
   "source": [
    "Parameters: \n",
    "- df: _float or array_like of floats_ \n",
    "     -Degrees of freedom, must be > 0.\n",
    "- size: int or tuple of ints, optional \n",
    "- Output shape: If the given shape is, e.g., (m, n, k), then m * n * k samples are drawn. If size is None (default), a single                   value is returned if df is a scalar. Otherwise, np.array(df).size samples are drawn."
   ]
  },
  {
   "cell_type": "code",
   "execution_count": 28,
   "id": "a7f5eb9e",
   "metadata": {},
   "outputs": [],
   "source": [
    "intake = np.array([5260., 5470, 5640, 6180, 6390, 6515, 6805, 7515, \\\n",
    "                   7515, 8230, 8770])"
   ]
  },
  {
   "cell_type": "code",
   "execution_count": 29,
   "id": "2addedcb",
   "metadata": {},
   "outputs": [
    {
     "data": {
      "text/plain": [
       "-2.8207540608310198"
      ]
     },
     "execution_count": 29,
     "metadata": {},
     "output_type": "execute_result"
    }
   ],
   "source": [
    "np.mean(intake)\n",
    "6753.636363636364\n",
    "intake.std(ddof=1)\n",
    "1142.1232221373727\n",
    "t = (np.mean(intake)-7725)/(intake.std(ddof=1)/np.sqrt(len(intake)))\n",
    "t\n",
    "-2.8207540608310198"
   ]
  },
  {
   "cell_type": "code",
   "execution_count": 30,
   "id": "54963ea0",
   "metadata": {},
   "outputs": [
    {
     "data": {
      "image/png": "[encoded data removed]",
      "text/plain": [
       "<Figure size 640x480 with 1 Axes>"
      ]
     },
     "metadata": {},
     "output_type": "display_data"
    }
   ],
   "source": [
    "import matplotlib.pyplot as plt\n",
    "s = np.random.default_rng().standard_t(10, size=1000000)\n",
    "h = plt.hist(s, bins=100, density=True)"
   ]
  },
  {
   "cell_type": "code",
   "execution_count": null,
   "id": "49b6c8c7",
   "metadata": {},
   "outputs": [],
   "source": []
  }
 ],
 "metadata": {
  "kernelspec": {
   "display_name": "Python 3 (ipykernel)",
   "language": "python",
   "name": "python3"
  },
  "language_info": {
   "codemirror_mode": {
    "name": "ipython",
    "version": 3
   },
   "file_extension": ".py",
   "mimetype": "text/x-python",
   "name": "python",
   "nbconvert_exporter": "python",
   "pygments_lexer": "ipython3",
   "version": "3.9.13"
  }
 },
 "nbformat": 4,
 "nbformat_minor": 5
}
