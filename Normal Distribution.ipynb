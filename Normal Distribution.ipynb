{
 "cells": [
  {
   "cell_type": "markdown",
   "id": "806f86b5",
   "metadata": {},
   "source": [
    "# NORMAL DISTRIBUTION\n",
    "\n",
    "***"
   ]
  },
  {
   "cell_type": "markdown",
   "id": "0866092f",
   "metadata": {},
   "source": [
    "# THE BRIEF\n",
    "\n",
    "** Normal Distribution Notebook:**\n",
    "- Create a notebook about the normal distribution.\n",
    "- Define and explain the main concepts.\n",
    "- Pitch the notebook at your classmates.\n",
    "- Use visuals like plots to explain concept"
   ]
  },
  {
   "cell_type": "code",
   "execution_count": null,
   "id": "ac85594f",
   "metadata": {},
   "outputs": [],
   "source": []
  },
  {
   "cell_type": "markdown",
   "id": "1448e5ca",
   "metadata": {},
   "source": [
    "$$ e^{\\frac{1}{2}} $$"
   ]
  },
  {
   "cell_type": "markdown",
   "id": "77c60801",
   "metadata": {},
   "source": [
    "reference [Data Science Discovery](https://discovery.cs.illinois.edu/learn/Simulation-and-Distributions/Normal-Distribution/)"
   ]
  },
  {
   "cell_type": "code",
   "execution_count": 1,
   "id": "49e6d066",
   "metadata": {},
   "outputs": [],
   "source": [
    "import numpy as np\n",
    "from scipy.stats import norm #imports normal distribution from scipy"
   ]
  },
  {
   "cell_type": "code",
   "execution_count": 2,
   "id": "5df5fb81",
   "metadata": {
    "scrolled": true
   },
   "outputs": [
    {
     "data": {
      "text/plain": [
       "0.4427517572753437"
      ]
     },
     "execution_count": 2,
     "metadata": {},
     "output_type": "execute_result"
    }
   ],
   "source": [
    "np.random.normal()"
   ]
  },
  {
   "cell_type": "code",
   "execution_count": 3,
   "id": "9e7ce818",
   "metadata": {},
   "outputs": [
    {
     "data": {
      "text/plain": [
       "0.8413447460685429"
      ]
     },
     "execution_count": 3,
     "metadata": {},
     "output_type": "execute_result"
    }
   ],
   "source": [
    "#testing norm from scipy, find the cumulative distribution function to the left of z-score 1\n",
    "norm.cdf(1)"
   ]
  }
 ],
 "metadata": {
  "kernelspec": {
   "display_name": "Python 3 (ipykernel)",
   "language": "python",
   "name": "python3"
  },
  "language_info": {
   "codemirror_mode": {
    "name": "ipython",
    "version": 3
   },
   "file_extension": ".py",
   "mimetype": "text/x-python",
   "name": "python",
   "nbconvert_exporter": "python",
   "pygments_lexer": "ipython3",
   "version": "3.9.13"
  }
 },
 "nbformat": 4,
 "nbformat_minor": 5
}
