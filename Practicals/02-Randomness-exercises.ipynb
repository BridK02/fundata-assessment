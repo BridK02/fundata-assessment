{
 "cells": [
  {
   "cell_type": "code",
   "execution_count": null,
   "id": "23818696",
   "metadata": {},
   "outputs": [],
   "source": []
  },
  {
   "cell_type": "markdown",
   "id": "f65135b2",
   "metadata": {},
   "source": [
    "## Exercise\n",
    "\n",
    "### Part one\n",
    "\n",
    "**It is somewhat interesting that (5 * 4 * 3 * 2 * 1) perfectly divides (10 * 9 * 8 * 7 * 6) - there's no remainder.**\n",
    "\n",
    "**If we only wanted exactly four heads as opposed to five, the equivalent calculation would be (10 * 9 * 8 * 7) / (4 * 3 * 2 * 1).**"
   ]
  },
  {
   "cell_type": "markdown",
   "id": "12861778",
   "metadata": {},
   "source": [
    "**Does that evenly divide too? What is the formula in general?**\n",
    "\n",
    "**Does it always come out as a positive whole number?**"
   ]
  },
  {
   "cell_type": "code",
   "execution_count": 1,
   "id": "b6035a39",
   "metadata": {},
   "outputs": [
    {
     "data": {
      "text/plain": [
       "252"
      ]
     },
     "execution_count": 1,
     "metadata": {},
     "output_type": "execute_result"
    }
   ],
   "source": [
    "(10 * 9 * 8 * 7 * 6) // (5 * 4 * 3 * 2 * 1)"
   ]
  },
  {
   "cell_type": "code",
   "execution_count": 2,
   "id": "aa454874",
   "metadata": {},
   "outputs": [
    {
     "data": {
      "text/plain": [
       "42"
      ]
     },
     "execution_count": 2,
     "metadata": {},
     "output_type": "execute_result"
    }
   ],
   "source": [
    "#testing if the below calculation generates an equal number\n",
    "(10 * 9 * 8 * 7 ) // (5 * 4 * 3 * 2 )"
   ]
  },
  {
   "cell_type": "markdown",
   "id": "bf030c8d",
   "metadata": {},
   "source": [
    "Looking for an answer for what the formulas in general for this type of calculation has lead me to the [wikipedia on combinations](https://en.wikipedia.org/wiki/Combination) page.\n",
    "\n",
    "a *k*-**combination** of a set S is a subset of *k* distinct elements of S.\n",
    "{\\displaystyle {\\binom {n}{k}}={\\frac {n(n-1)\\dotsb (n-k+1)}{k(k-1)\\dotsb 1}},}\n",
    "\n",
    " using factorials as {\\displaystyle \\textstyle {\\frac {n!}{k!(n-k)!}}}\\textstyle {\\frac {n!}{k!(n-k)!}} whenever {\\displaystyle k\\leq n}k\\leq n, and which is zero when {\\displaystyle k>n}k>n. This formula can be derived from the fact that each k-"
   ]
  },
  {
   "cell_type": "code",
   "execution_count": null,
   "id": "420ed39f",
   "metadata": {},
   "outputs": [],
   "source": []
  }
 ],
 "metadata": {
  "kernelspec": {
   "display_name": "Python 3 (ipykernel)",
   "language": "python",
   "name": "python3"
  },
  "language_info": {
   "codemirror_mode": {
    "name": "ipython",
    "version": 3
   },
   "file_extension": ".py",
   "mimetype": "text/x-python",
   "name": "python",
   "nbconvert_exporter": "python",
   "pygments_lexer": "ipython3",
   "version": "3.9.13"
  }
 },
 "nbformat": 4,
 "nbformat_minor": 5
}
