{
 "cells": [
  {
   "cell_type": "code",
   "execution_count": null,
   "id": "23818696",
   "metadata": {},
   "outputs": [],
   "source": []
  },
  {
   "cell_type": "markdown",
   "id": "f65135b2",
   "metadata": {},
   "source": [
    "## Exercise\n",
    "\n",
    "### Part one\n",
    "\n",
    "**It is somewhat interesting that (5 * 4 * 3 * 2 * 1) perfectly divides (10 * 9 * 8 * 7 * 6) - there's no remainder.**\n",
    "\n",
    "**If we only wanted exactly four heads as opposed to five, the equivalent calculation would be (10 * 9 * 8 * 7) / (4 * 3 * 2 * 1).**"
   ]
  },
  {
   "cell_type": "markdown",
   "id": "12861778",
   "metadata": {},
   "source": [
    "**Does that evenly divide too? What is the formula in general?**\n",
    "\n",
    "**Does it always come out as a positive whole number?**"
   ]
  },
  {
   "cell_type": "code",
   "execution_count": null,
   "id": "b6035a39",
   "metadata": {},
   "outputs": [],
   "source": []
  }
 ],
 "metadata": {
  "kernelspec": {
   "display_name": "Python 3 (ipykernel)",
   "language": "python",
   "name": "python3"
  },
  "language_info": {
   "codemirror_mode": {
    "name": "ipython",
    "version": 3
   },
   "file_extension": ".py",
   "mimetype": "text/x-python",
   "name": "python",
   "nbconvert_exporter": "python",
   "pygments_lexer": "ipython3",
   "version": "3.9.13"
  }
 },
 "nbformat": 4,
 "nbformat_minor": 5
}
